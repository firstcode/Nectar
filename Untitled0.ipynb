{
 "metadata": {
  "name": "",
  "signature": "sha256:326c9ccbcd4c6c392f784430b218a30b5ca4a13fa1c5b827194a72c3ec1d3d18"
 },
 "nbformat": 3,
 "nbformat_minor": 0,
 "worksheets": [
  {
   "cells": [
    {
     "cell_type": "code",
     "collapsed": false,
     "input": [
      "from activities.utils import *\n",
      "u = User.objects.get(email = 'alan.wc.hau@gmail.com')\n",
      "s = ActivitySummaryData(user = u)\n",
      "summary = ActivityStats(user = u, ActivitySummaryDataObject = s)\n",
      "\n",
      "print summary.save_summary()"
     ],
     "language": "python",
     "metadata": {},
     "outputs": [
      {
       "output_type": "stream",
       "stream": "stdout",
       "text": [
        "availabel keys: []\n"
       ]
      },
      {
       "ename": "TypeError",
       "evalue": "'NoneType' object has no attribute '__getitem__'",
       "output_type": "pyerr",
       "traceback": [
        "\u001b[0;31m---------------------------------------------------------------------------\u001b[0m\n\u001b[0;31mTypeError\u001b[0m                                 Traceback (most recent call last)",
        "\u001b[0;32m<ipython-input-1-5d2336ce917a>\u001b[0m in \u001b[0;36m<module>\u001b[0;34m()\u001b[0m\n\u001b[1;32m      4\u001b[0m \u001b[0msummary\u001b[0m \u001b[0;34m=\u001b[0m \u001b[0mActivityStats\u001b[0m\u001b[0;34m(\u001b[0m\u001b[0$
        "\u001b[0;32m/Users/ahau/SixCycle/activities/utils.pyc\u001b[0m in \u001b[0;36msave_summary\u001b[0;34m(self)\u001b[0m\n\u001b[1;32m     60\u001b[0m     \u001b[0;31m# use this function to calculate all statistics from database from scratch.$
        "\u001b[0;31mTypeError\u001b[0m: 'NoneType' object has no attribute '__getitem__'"
       ]
      }
     ],
     "prompt_number": 1
    },
    {
     "cell_type": "code",
     "collapsed": false,
     "input": [
      "print summary.modelValues"
     ],
     "language": "python",
     "metadata": {},
  }
 ]
}